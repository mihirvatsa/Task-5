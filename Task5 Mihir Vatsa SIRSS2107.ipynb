{
 "cells": [
  {
   "cell_type": "markdown",
   "id": "e4984fdc",
   "metadata": {},
   "source": [
    "\n",
    "ASSIGNMENT - 5\n",
    "Name - Mihir Vatsa\n",
    "Reg id - SIRSS2107"
   ]
  },
  {
   "cell_type": "markdown",
   "id": "436114da",
   "metadata": {},
   "source": [
    "\n",
    "Q1. Given a list of integers, write a function to return the sum of all prime numbers in that list."
   ]
  },
  {
   "cell_type": "code",
   "execution_count": 1,
   "id": "9877bbb0",
   "metadata": {},
   "outputs": [
    {
     "name": "stdout",
     "output_type": "stream",
     "text": [
      "1 3 7 9 8 11\n",
      "21\n"
     ]
    }
   ],
   "source": [
    "numbers=input(\"\").split(' ')\n",
    "sum=0\n",
    "for n in numbers:\n",
    "    n=int(n)\n",
    "    isPrime=True\n",
    "    if n > 1:\n",
    "       \n",
    "        for i in range(2, n):\n",
    "            if (n % i) == 0:\n",
    "                isPrime=False\n",
    "                break\n",
    "        if isPrime:\n",
    "            sum+=n\n",
    "\n",
    "\n",
    "\n",
    "print(str(sum))"
   ]
  },
  {
   "cell_type": "markdown",
   "id": "c00feef1",
   "metadata": {},
   "source": [
    "Q2. Given a list of integers, write a function to check whether the list is strictly increasing or not."
   ]
  },
  {
   "cell_type": "code",
   "execution_count": 4,
   "id": "501135f3",
   "metadata": {},
   "outputs": [
    {
     "name": "stdout",
     "output_type": "stream",
     "text": [
      "Real list : [6, 8, 9, 11, 12]\n",
      "Is the list strictly increasing ? : True\n"
     ]
    }
   ],
   "source": [
    "list = [6, 8, 9, 11, 12]\n",
    "  \n",
    "\n",
    "print (\"Real list : \" + str(list))\n",
    "  \n",
    "result = all(i < j for i, j in zip(list,list[1:]))\n",
    "  \n",
    "\n",
    "print (\"Is the list strictly increasing ? : \" + str(result))"
   ]
  },
  {
   "cell_type": "markdown",
   "id": "646e65fb",
   "metadata": {},
   "source": [
    "Q3. Write a function to check whether a given list is expanding or not (the difference between adjacent elements should keep on increasing)."
   ]
  },
  {
   "cell_type": "code",
   "execution_count": 5,
   "id": "5e51d951",
   "metadata": {},
   "outputs": [],
   "source": [
    "def expand(m):\n",
    "    a = abs(m[1] - m[0])\n",
    "    b = abs(m[2] - m[1])\n",
    "    \n",
    "    if a >= b:\n",
    "        return False\n",
    "    \n",
    "    else:\n",
    "        for i in range(3,len(m)):\n",
    "            c = abs(m[i] - m[i-1])\n",
    "            if c <= b:\n",
    "                return False\n",
    "            b = c\n",
    "        else:\n",
    "            return True"
   ]
  },
  {
   "cell_type": "code",
   "execution_count": 6,
   "id": "96e6cf7a",
   "metadata": {},
   "outputs": [
    {
     "data": {
      "text/plain": [
       "False"
      ]
     },
     "execution_count": 6,
     "metadata": {},
     "output_type": "execute_result"
    }
   ],
   "source": [
    "expand([3,4,6,8,9])"
   ]
  },
  {
   "cell_type": "markdown",
   "id": "f4a50290",
   "metadata": {},
   "source": [
    "Q4. Write a function to calculate all permutations of a given string. (Without using itertools)"
   ]
  },
  {
   "cell_type": "code",
   "execution_count": 7,
   "id": "753bc313",
   "metadata": {},
   "outputs": [
    {
     "name": "stdout",
     "output_type": "stream",
     "text": [
      "Enter the string : mihir\n",
      "All possible strings are : \n",
      "mihir  mihri  miihr  miirh  mirhi  mirih  mhiir  mhiri  mhiir  mhiri  mhrii  mhrii  miihr  miirh  mihir  mihri  mirih  mirhi  mrihi  mriih  mrhii  mrhii  mriih  mrihi  imhir  imhri  imihr  imirh  imrhi  imrih  ihmir  ihmri  ihimr  ihirm  ihrmi  ihrim  iimhr  iimrh  iihmr  iihrm  iirmh  iirhm  irmhi  irmih  irhmi  irhim  irimh  irihm  hmiir  hmiri  hmiir  hmiri  hmrii  hmrii  himir  himri  hiimr  hiirm  hirmi  hirim  himir  himri  hiimr  hiirm  hirmi  hirim  hrmii  hrmii  hrimi  hriim  hrimi  hriim  imihr  imirh  imhir  imhri  imrih  imrhi  iimhr  iimrh  iihmr  iihrm  iirmh  iirhm  ihmir  ihmri  ihimr  ihirm  ihrmi  ihrim  irmih  irmhi  irimh  irihm  irhmi  irhim  rmihi  rmiih  rmhii  rmhii  rmiih  rmihi  rimhi  rimih  rihmi  rihim  riimh  riihm  rhmii  rhmii  rhimi  rhiim  rhimi  rhiim  rimih  rimhi  riimh  riihm  rihmi  rihim  "
     ]
    }
   ],
   "source": [
    "def permutation(j, ans):\n",
    "    if (len(j) == 0):\n",
    "        print(ans, end = \"  \")\n",
    "        return\n",
    "     \n",
    "    for i in range(len(j)):\n",
    "        ch = j[i]\n",
    "        left = j[0:i]\n",
    "        right = j[i + 1:]\n",
    "        rest = left + right\n",
    "        permutation(rest, ans + ch)\n",
    " \n",
    "\n",
    "ans = \"\"\n",
    " \n",
    "j = input(\"Enter the string : \")\n",
    " \n",
    "print(\"All possible strings are : \")\n",
    "permutation(j, ans)"
   ]
  },
  {
   "cell_type": "code",
   "execution_count": null,
   "id": "fecfa63e",
   "metadata": {},
   "outputs": [],
   "source": []
  }
 ],
 "metadata": {
  "kernelspec": {
   "display_name": "Python 3",
   "language": "python",
   "name": "python3"
  },
  "language_info": {
   "codemirror_mode": {
    "name": "ipython",
    "version": 3
   },
   "file_extension": ".py",
   "mimetype": "text/x-python",
   "name": "python",
   "nbconvert_exporter": "python",
   "pygments_lexer": "ipython3",
   "version": "3.8.8"
  }
 },
 "nbformat": 4,
 "nbformat_minor": 5
}
